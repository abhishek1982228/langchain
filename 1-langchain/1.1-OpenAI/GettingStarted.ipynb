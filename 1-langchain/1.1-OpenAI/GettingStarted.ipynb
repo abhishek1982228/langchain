{
 "cells": [
  {
   "cell_type": "code",
   "execution_count": null,
   "metadata": {},
   "outputs": [],
   "source": [
    "# for openai api key\n",
    "# https://platform.openai.com/api-keys"
   ]
  }
 ],
 "metadata": {
  "language_info": {
   "name": "python"
  }
 },
 "nbformat": 4,
 "nbformat_minor": 2
}
