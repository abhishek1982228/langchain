{
 "cells": [
  {
   "cell_type": "code",
   "execution_count": 1,
   "metadata": {},
   "outputs": [],
   "source": [
    "from langchain_community.document_loaders import TextLoader\n",
    "from langchain_text_splitters import RecursiveCharacterTextSplitter\n",
    "from langchain_community.vectorstores import chroma"
   ]
  },
  {
   "cell_type": "code",
   "execution_count": 2,
   "metadata": {},
   "outputs": [
    {
     "data": {
      "text/plain": [
       "[Document(metadata={'source': 'sample.txt'}, page_content='Cleanliness is both the state of being clean and free from germs, dirt, trash, or waste, and the habit of achieving and maintaining that state. Cleanliness is often achieved through cleaning. Culturally, cleanliness is usually a good quality, as indicated by the aphorism: \"Cleanliness is next to Godliness\",[1] and may be regarded as contributing to other ideals such as health and beauty.\\n\\nThe concept of cleanliness emphasizes an ongoing procedure or set of habits for the purpose of maintenance and prevention. In this it differs from purity, which is a physical, moral, or ritual state of freedom from pollutants. Whereas purity is usually a quality of an individual or substance, cleanliness has a social dimension.[2] \"Cleanliness\", observed Jacob Burckhardt, \"is indispensable to our modern notion of social perfection\".[3] A household or workplace may be said to exhibit cleanliness, but ordinarily not purity. Cleanliness is also a characteristic of people who maintain cleanness or prevent dirtying.\\n\\nCleanliness is related to hygiene and disease prevention. Washing is one way of achieving physical cleanliness, usually with water and often some kind of soap or detergent. Cleaning procedures are also important in many forms of manufacturing.\\n\\nAs an assertion of moral superiority or respectability, cleanliness has played a role in establishing cultural values in relation to social class, humanitarianism, and cultural imperialism.[4]')]"
      ]
     },
     "execution_count": 2,
     "metadata": {},
     "output_type": "execute_result"
    }
   ],
   "source": [
    "# data loadin\n",
    "text_loader = TextLoader('sample.txt')\n",
    "txt_document = text_loader.load()\n",
    "txt_document"
   ]
  },
  {
   "cell_type": "code",
   "execution_count": null,
   "metadata": {},
   "outputs": [],
   "source": []
  },
  {
   "cell_type": "code",
   "execution_count": null,
   "metadata": {},
   "outputs": [],
   "source": []
  },
  {
   "cell_type": "code",
   "execution_count": null,
   "metadata": {},
   "outputs": [],
   "source": []
  }
 ],
 "metadata": {
  "kernelspec": {
   "display_name": "langchain_venv",
   "language": "python",
   "name": "python3"
  },
  "language_info": {
   "codemirror_mode": {
    "name": "ipython",
    "version": 3
   },
   "file_extension": ".py",
   "mimetype": "text/x-python",
   "name": "python",
   "nbconvert_exporter": "python",
   "pygments_lexer": "ipython3",
   "version": "3.10.11"
  }
 },
 "nbformat": 4,
 "nbformat_minor": 2
}
