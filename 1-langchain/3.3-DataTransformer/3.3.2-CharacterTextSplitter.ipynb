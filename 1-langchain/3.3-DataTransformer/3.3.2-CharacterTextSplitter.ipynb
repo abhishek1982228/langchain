{
 "cells": [
  {
   "cell_type": "markdown",
   "metadata": {},
   "source": [
    "## Split by character-character Text Splitter\n",
    "\n",
    "This is the simplest method. This splits based on characters (by default \"\\n\\n\") and measure chunk length by number of characters.\n",
    "\n",
    "How the text is split: by single character.\n",
    "How the chunk size is measured: by number of characters."
   ]
  },
  {
   "cell_type": "code",
   "execution_count": 1,
   "metadata": {},
   "outputs": [],
   "source": [
    "from langchain_community.document_loaders import TextLoader\n",
    "\n",
    "text_doc = TextLoader(\"sample.txt\").load()"
   ]
  },
  {
   "cell_type": "code",
   "execution_count": 2,
   "metadata": {},
   "outputs": [
    {
     "name": "stderr",
     "output_type": "stream",
     "text": [
      "Created a chunk of size 390, which is longer than the specified 100\n",
      "Created a chunk of size 618, which is longer than the specified 100\n",
      "Created a chunk of size 243, which is longer than the specified 100\n"
     ]
    }
   ],
   "source": [
    "from langchain_text_splitters import CharacterTextSplitter\n",
    "\n",
    "chr_splitter = CharacterTextSplitter(separator = \"\\n\\n\", chunk_size=100, chunk_overlap=20)\n",
    "final_doc = chr_splitter.split_documents(text_doc)"
   ]
  },
  {
   "cell_type": "code",
   "execution_count": 3,
   "metadata": {},
   "outputs": [
    {
     "name": "stdout",
     "output_type": "stream",
     "text": [
      "-------------------Sample of splitted document (wih visible overlap--------------------------------------\n",
      "Cleanliness is both the state of being clean and free from germs, dirt, trash, or waste, and the habit of achieving and maintaining that state. Cleanliness is often achieved through cleaning. Culturally, cleanliness is usually a good quality, as indicated by the aphorism: \"Cleanliness is next to Godliness\",[1] and may be regarded as contributing to other ideals such as health and beauty.\n",
      "*********************************************************************************************\n",
      "The concept of cleanliness emphasizes an ongoing procedure or set of habits for the purpose of maintenance and prevention. In this it differs from purity, which is a physical, moral, or ritual state of freedom from pollutants. Whereas purity is usually a quality of an individual or substance, cleanliness has a social dimension.[2] \"Cleanliness\", observed Jacob Burckhardt, \"is indispensable to our modern notion of social perfection\".[3] A household or workplace may be said to exhibit cleanliness, but ordinarily not purity. Cleanliness is also a characteristic of people who maintain cleanness or prevent dirtying.\n"
     ]
    }
   ],
   "source": [
    "print(\"-------------------Sample of splitted document (wihout visible overlap--------------------------------------\")\n",
    "\n",
    "# here you can see that \"University of Toronto\" is visible at the end of first chunk and at the begining of second chunk\n",
    "\n",
    "print(final_doc[0].page_content)\n",
    "print(\"*********************************************************************************************\")\n",
    "print(final_doc[1].page_content)"
   ]
  },
  {
   "cell_type": "code",
   "execution_count": 7,
   "metadata": {},
   "outputs": [
    {
     "name": "stderr",
     "output_type": "stream",
     "text": [
      "Created a chunk of size 390, which is longer than the specified 50\n",
      "Created a chunk of size 618, which is longer than the specified 50\n",
      "Created a chunk of size 243, which is longer than the specified 50\n"
     ]
    }
   ],
   "source": [
    "with open('sample.txt') as f:\n",
    "    text = f.read()\n",
    "    \n",
    "chr_splitter = CharacterTextSplitter(chunk_size=50, chunk_overlap=20) # default value of separator = \"\\n\\n\", \n",
    "final_doc = chr_splitter.create_documents([text])"
   ]
  },
  {
   "cell_type": "code",
   "execution_count": 8,
   "metadata": {},
   "outputs": [
    {
     "name": "stdout",
     "output_type": "stream",
     "text": [
      "-------------------Sample of splitted document (wihout visible overlap--------------------------------------\n",
      "Cleanliness is both the state of being clean and free from germs, dirt, trash, or waste, and the habit of achieving and maintaining that state. Cleanliness is often achieved through cleaning. Culturally, cleanliness is usually a good quality, as indicated by the aphorism: \"Cleanliness is next to Godliness\",[1] and may be regarded as contributing to other ideals such as health and beauty.\n",
      "*********************************************************************************************\n",
      "The concept of cleanliness emphasizes an ongoing procedure or set of habits for the purpose of maintenance and prevention. In this it differs from purity, which is a physical, moral, or ritual state of freedom from pollutants. Whereas purity is usually a quality of an individual or substance, cleanliness has a social dimension.[2] \"Cleanliness\", observed Jacob Burckhardt, \"is indispensable to our modern notion of social perfection\".[3] A household or workplace may be said to exhibit cleanliness, but ordinarily not purity. Cleanliness is also a characteristic of people who maintain cleanness or prevent dirtying.\n"
     ]
    }
   ],
   "source": [
    "print(\"-------------------Sample of splitted document (wihout visible overlap--------------------------------------\")\n",
    "\n",
    "# here you can see that \"University of Toronto\" is visible at the end of first chunk and at the begining of second chunk\n",
    "\n",
    "print(final_doc[0].page_content)\n",
    "print(\"*********************************************************************************************\")\n",
    "print(final_doc[1].page_content)"
   ]
  }
 ],
 "metadata": {
  "kernelspec": {
   "display_name": "langchain_env",
   "language": "python",
   "name": "python3"
  },
  "language_info": {
   "codemirror_mode": {
    "name": "ipython",
    "version": 3
   },
   "file_extension": ".py",
   "mimetype": "text/x-python",
   "name": "python",
   "nbconvert_exporter": "python",
   "pygments_lexer": "ipython3",
   "version": "3.10.15"
  }
 },
 "nbformat": 4,
 "nbformat_minor": 2
}
